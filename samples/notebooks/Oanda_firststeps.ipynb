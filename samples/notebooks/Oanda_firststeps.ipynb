{
 "cells": [
  {
   "cell_type": "markdown",
   "metadata": {},
   "source": [
    "# First Steps with the OANDA API"
   ]
  },
  {
   "cell_type": "markdown",
   "metadata": {},
   "source": [
    "## Connecting to the API / Server"
   ]
  },
  {
   "cell_type": "code",
   "execution_count": 4,
   "metadata": {},
   "outputs": [],
   "source": [
    "from pathlib import Path\n",
    "import pandas as pd\n",
    "import tpqoa\n",
    "\n",
    "cfg_path = Path('../oanda.cfg')"
   ]
  },
  {
   "cell_type": "code",
   "execution_count": 2,
   "metadata": {},
   "outputs": [],
   "source": [
    "api = tpqoa.tpqoa(cfg_path)"
   ]
  },
  {
   "cell_type": "code",
   "execution_count": 3,
   "metadata": {},
   "outputs": [
    {
     "data": {
      "text/plain": [
       "{'id': '101-001-26333309-001',\n",
       " 'alias': 'Primary',\n",
       " 'currency': 'USD',\n",
       " 'balance': '100000.0',\n",
       " 'createdByUserID': 26333309,\n",
       " 'createdTime': '2023-07-13T19:15:17.033402804Z',\n",
       " 'guaranteedStopLossOrderMode': 'DISABLED',\n",
       " 'pl': '0.0',\n",
       " 'resettablePL': '0.0',\n",
       " 'resettablePLTime': '0',\n",
       " 'financing': '0.0',\n",
       " 'commission': '0.0',\n",
       " 'guaranteedExecutionFees': '0.0',\n",
       " 'marginRate': '0.02',\n",
       " 'openTradeCount': 0,\n",
       " 'openPositionCount': 0,\n",
       " 'pendingOrderCount': 0,\n",
       " 'hedgingEnabled': False,\n",
       " 'unrealizedPL': '0.0',\n",
       " 'NAV': '100000.0',\n",
       " 'marginUsed': '0.0',\n",
       " 'marginAvailable': '100000.0',\n",
       " 'positionValue': '0.0',\n",
       " 'marginCloseoutUnrealizedPL': '0.0',\n",
       " 'marginCloseoutNAV': '100000.0',\n",
       " 'marginCloseoutMarginUsed': '0.0',\n",
       " 'marginCloseoutPercent': '0.0',\n",
       " 'marginCloseoutPositionValue': '0.0',\n",
       " 'withdrawalLimit': '100000.0',\n",
       " 'marginCallMarginUsed': '0.0',\n",
       " 'marginCallPercent': '0.0',\n",
       " 'lastTransactionID': '3'}"
      ]
     },
     "execution_count": 3,
     "metadata": {},
     "output_type": "execute_result"
    }
   ],
   "source": [
    "api.get_account_summary()"
   ]
  },
  {
   "cell_type": "code",
   "execution_count": 4,
   "metadata": {},
   "outputs": [
    {
     "data": {
      "text/plain": [
       "'practice'"
      ]
     },
     "execution_count": 4,
     "metadata": {},
     "output_type": "execute_result"
    }
   ],
   "source": [
    "api.account_type"
   ]
  },
  {
   "cell_type": "code",
   "execution_count": 5,
   "metadata": {},
   "outputs": [
    {
     "data": {
      "text/plain": [
       "'101-001-26333309-001'"
      ]
     },
     "execution_count": 5,
     "metadata": {},
     "output_type": "execute_result"
    }
   ],
   "source": [
    "api.account_id"
   ]
  },
  {
   "cell_type": "code",
   "execution_count": 6,
   "metadata": {},
   "outputs": [
    {
     "data": {
      "text/plain": [
       "[('EUR/ZAR', 'EUR_ZAR'),\n",
       " ('EUR/CHF', 'EUR_CHF'),\n",
       " ('USD/PLN', 'USD_PLN'),\n",
       " ('GBP/AUD', 'GBP_AUD'),\n",
       " ('EUR/AUD', 'EUR_AUD'),\n",
       " ('EUR/SGD', 'EUR_SGD'),\n",
       " ('NZD/CAD', 'NZD_CAD'),\n",
       " ('TRY/JPY', 'TRY_JPY'),\n",
       " ('CAD/HKD', 'CAD_HKD'),\n",
       " ('USD/CHF', 'USD_CHF'),\n",
       " ('AUD/HKD', 'AUD_HKD'),\n",
       " ('NZD/CHF', 'NZD_CHF'),\n",
       " ('AUD/CHF', 'AUD_CHF'),\n",
       " ('GBP/CHF', 'GBP_CHF'),\n",
       " ('USD/THB', 'USD_THB'),\n",
       " ('GBP/CAD', 'GBP_CAD'),\n",
       " ('EUR/HKD', 'EUR_HKD'),\n",
       " ('CHF/JPY', 'CHF_JPY'),\n",
       " ('GBP/HKD', 'GBP_HKD'),\n",
       " ('EUR/NZD', 'EUR_NZD'),\n",
       " ('AUD/SGD', 'AUD_SGD'),\n",
       " ('EUR/JPY', 'EUR_JPY'),\n",
       " ('EUR/TRY', 'EUR_TRY'),\n",
       " ('USD/JPY', 'USD_JPY'),\n",
       " ('SGD/JPY', 'SGD_JPY'),\n",
       " ('GBP/ZAR', 'GBP_ZAR'),\n",
       " ('ZAR/JPY', 'ZAR_JPY'),\n",
       " ('AUD/JPY', 'AUD_JPY'),\n",
       " ('USD/ZAR', 'USD_ZAR'),\n",
       " ('CAD/JPY', 'CAD_JPY'),\n",
       " ('NZD/HKD', 'NZD_HKD'),\n",
       " ('USD/CZK', 'USD_CZK'),\n",
       " ('USD/DKK', 'USD_DKK'),\n",
       " ('USD/SEK', 'USD_SEK'),\n",
       " ('GBP/SGD', 'GBP_SGD'),\n",
       " ('EUR/DKK', 'EUR_DKK'),\n",
       " ('CHF/ZAR', 'CHF_ZAR'),\n",
       " ('CAD/CHF', 'CAD_CHF'),\n",
       " ('GBP/USD', 'GBP_USD'),\n",
       " ('USD/MXN', 'USD_MXN'),\n",
       " ('USD/HUF', 'USD_HUF'),\n",
       " ('USD/HKD', 'USD_HKD'),\n",
       " ('EUR/USD', 'EUR_USD'),\n",
       " ('EUR/CAD', 'EUR_CAD'),\n",
       " ('AUD/CAD', 'AUD_CAD'),\n",
       " ('GBP/PLN', 'GBP_PLN'),\n",
       " ('EUR/PLN', 'EUR_PLN'),\n",
       " ('GBP/NZD', 'GBP_NZD'),\n",
       " ('EUR/HUF', 'EUR_HUF'),\n",
       " ('EUR/NOK', 'EUR_NOK'),\n",
       " ('CHF/HKD', 'CHF_HKD'),\n",
       " ('EUR/GBP', 'EUR_GBP'),\n",
       " ('AUD/NZD', 'AUD_NZD'),\n",
       " ('CAD/SGD', 'CAD_SGD'),\n",
       " ('EUR/CZK', 'EUR_CZK'),\n",
       " ('NZD/JPY', 'NZD_JPY'),\n",
       " ('USD/TRY', 'USD_TRY'),\n",
       " ('GBP/JPY', 'GBP_JPY'),\n",
       " ('SGD/CHF', 'SGD_CHF'),\n",
       " ('USD/CNH', 'USD_CNH'),\n",
       " ('USD/NOK', 'USD_NOK'),\n",
       " ('NZD/SGD', 'NZD_SGD'),\n",
       " ('NZD/USD', 'NZD_USD'),\n",
       " ('USD/CAD', 'USD_CAD'),\n",
       " ('AUD/USD', 'AUD_USD'),\n",
       " ('HKD/JPY', 'HKD_JPY'),\n",
       " ('EUR/SEK', 'EUR_SEK'),\n",
       " ('USD/SGD', 'USD_SGD')]"
      ]
     },
     "execution_count": 6,
     "metadata": {},
     "output_type": "execute_result"
    }
   ],
   "source": [
    "api.get_instruments()"
   ]
  },
  {
   "cell_type": "code",
   "execution_count": 7,
   "metadata": {},
   "outputs": [],
   "source": [
    "instr = api.get_instruments()"
   ]
  },
  {
   "cell_type": "code",
   "execution_count": 8,
   "metadata": {},
   "outputs": [
    {
     "data": {
      "text/plain": [
       "68"
      ]
     },
     "execution_count": 8,
     "metadata": {},
     "output_type": "execute_result"
    }
   ],
   "source": [
    "len(instr)"
   ]
  },
  {
   "cell_type": "code",
   "execution_count": 9,
   "metadata": {},
   "outputs": [
    {
     "data": {
      "text/plain": [
       "('EUR/ZAR', 'EUR_ZAR')"
      ]
     },
     "execution_count": 9,
     "metadata": {},
     "output_type": "execute_result"
    }
   ],
   "source": [
    "instr[0]"
   ]
  },
  {
   "cell_type": "markdown",
   "metadata": {},
   "source": [
    "## Getting Historical Data (Part 1)"
   ]
  },
  {
   "cell_type": "code",
   "execution_count": null,
   "metadata": {},
   "outputs": [],
   "source": [
    "import pandas as pd\n",
    "import tpqoa"
   ]
  },
  {
   "cell_type": "code",
   "execution_count": null,
   "metadata": {},
   "outputs": [],
   "source": [
    "api = tpqoa.tpqoa(\"oanda.cfg\")"
   ]
  },
  {
   "cell_type": "code",
   "execution_count": null,
   "metadata": {},
   "outputs": [],
   "source": [
    "help(api.get_history)"
   ]
  },
  {
   "cell_type": "code",
   "execution_count": 10,
   "metadata": {
    "scrolled": false
   },
   "outputs": [
    {
     "data": {
      "text/html": [
       "<div>\n",
       "<style scoped>\n",
       "    .dataframe tbody tr th:only-of-type {\n",
       "        vertical-align: middle;\n",
       "    }\n",
       "\n",
       "    .dataframe tbody tr th {\n",
       "        vertical-align: top;\n",
       "    }\n",
       "\n",
       "    .dataframe thead th {\n",
       "        text-align: right;\n",
       "    }\n",
       "</style>\n",
       "<table border=\"1\" class=\"dataframe\">\n",
       "  <thead>\n",
       "    <tr style=\"text-align: right;\">\n",
       "      <th></th>\n",
       "      <th>volume</th>\n",
       "      <th>complete</th>\n",
       "      <th>o</th>\n",
       "      <th>h</th>\n",
       "      <th>l</th>\n",
       "      <th>c</th>\n",
       "    </tr>\n",
       "    <tr>\n",
       "      <th>time</th>\n",
       "      <th></th>\n",
       "      <th></th>\n",
       "      <th></th>\n",
       "      <th></th>\n",
       "      <th></th>\n",
       "      <th></th>\n",
       "    </tr>\n",
       "  </thead>\n",
       "  <tbody>\n",
       "    <tr>\n",
       "      <th>2020-06-30 21:00:00+00:00</th>\n",
       "      <td>90252</td>\n",
       "      <td>True</td>\n",
       "      <td>1.12293</td>\n",
       "      <td>1.12744</td>\n",
       "      <td>1.11837</td>\n",
       "      <td>1.12501</td>\n",
       "    </tr>\n",
       "    <tr>\n",
       "      <th>2020-07-01 21:00:00+00:00</th>\n",
       "      <td>90789</td>\n",
       "      <td>True</td>\n",
       "      <td>1.12501</td>\n",
       "      <td>1.13020</td>\n",
       "      <td>1.12188</td>\n",
       "      <td>1.12384</td>\n",
       "    </tr>\n",
       "    <tr>\n",
       "      <th>2020-07-02 21:00:00+00:00</th>\n",
       "      <td>59036</td>\n",
       "      <td>True</td>\n",
       "      <td>1.12384</td>\n",
       "      <td>1.12492</td>\n",
       "      <td>1.12186</td>\n",
       "      <td>1.12429</td>\n",
       "    </tr>\n",
       "    <tr>\n",
       "      <th>2020-07-05 21:00:00+00:00</th>\n",
       "      <td>81756</td>\n",
       "      <td>True</td>\n",
       "      <td>1.12423</td>\n",
       "      <td>1.13449</td>\n",
       "      <td>1.12391</td>\n",
       "      <td>1.13076</td>\n",
       "    </tr>\n",
       "    <tr>\n",
       "      <th>2020-07-06 21:00:00+00:00</th>\n",
       "      <td>92426</td>\n",
       "      <td>True</td>\n",
       "      <td>1.13070</td>\n",
       "      <td>1.13318</td>\n",
       "      <td>1.12581</td>\n",
       "      <td>1.12726</td>\n",
       "    </tr>\n",
       "    <tr>\n",
       "      <th>2020-07-07 21:00:00+00:00</th>\n",
       "      <td>89549</td>\n",
       "      <td>True</td>\n",
       "      <td>1.12717</td>\n",
       "      <td>1.13505</td>\n",
       "      <td>1.12615</td>\n",
       "      <td>1.13287</td>\n",
       "    </tr>\n",
       "    <tr>\n",
       "      <th>2020-07-08 21:00:00+00:00</th>\n",
       "      <td>104729</td>\n",
       "      <td>True</td>\n",
       "      <td>1.13287</td>\n",
       "      <td>1.13699</td>\n",
       "      <td>1.12774</td>\n",
       "      <td>1.12837</td>\n",
       "    </tr>\n",
       "    <tr>\n",
       "      <th>2020-07-09 21:00:00+00:00</th>\n",
       "      <td>81510</td>\n",
       "      <td>True</td>\n",
       "      <td>1.12808</td>\n",
       "      <td>1.13242</td>\n",
       "      <td>1.12540</td>\n",
       "      <td>1.12977</td>\n",
       "    </tr>\n",
       "    <tr>\n",
       "      <th>2020-07-12 21:00:00+00:00</th>\n",
       "      <td>86512</td>\n",
       "      <td>True</td>\n",
       "      <td>1.13042</td>\n",
       "      <td>1.13744</td>\n",
       "      <td>1.13002</td>\n",
       "      <td>1.13420</td>\n",
       "    </tr>\n",
       "    <tr>\n",
       "      <th>2020-07-13 21:00:00+00:00</th>\n",
       "      <td>106478</td>\n",
       "      <td>True</td>\n",
       "      <td>1.13420</td>\n",
       "      <td>1.14081</td>\n",
       "      <td>1.13232</td>\n",
       "      <td>1.13985</td>\n",
       "    </tr>\n",
       "    <tr>\n",
       "      <th>2020-07-14 21:00:00+00:00</th>\n",
       "      <td>100308</td>\n",
       "      <td>True</td>\n",
       "      <td>1.13979</td>\n",
       "      <td>1.14512</td>\n",
       "      <td>1.13901</td>\n",
       "      <td>1.14108</td>\n",
       "    </tr>\n",
       "    <tr>\n",
       "      <th>2020-07-15 21:00:00+00:00</th>\n",
       "      <td>102144</td>\n",
       "      <td>True</td>\n",
       "      <td>1.14108</td>\n",
       "      <td>1.14411</td>\n",
       "      <td>1.13698</td>\n",
       "      <td>1.13827</td>\n",
       "    </tr>\n",
       "    <tr>\n",
       "      <th>2020-07-16 21:00:00+00:00</th>\n",
       "      <td>73024</td>\n",
       "      <td>True</td>\n",
       "      <td>1.13827</td>\n",
       "      <td>1.14432</td>\n",
       "      <td>1.13737</td>\n",
       "      <td>1.14252</td>\n",
       "    </tr>\n",
       "    <tr>\n",
       "      <th>2020-07-19 21:00:00+00:00</th>\n",
       "      <td>104209</td>\n",
       "      <td>True</td>\n",
       "      <td>1.14088</td>\n",
       "      <td>1.14672</td>\n",
       "      <td>1.14017</td>\n",
       "      <td>1.14461</td>\n",
       "    </tr>\n",
       "    <tr>\n",
       "      <th>2020-07-20 21:00:00+00:00</th>\n",
       "      <td>111043</td>\n",
       "      <td>True</td>\n",
       "      <td>1.14461</td>\n",
       "      <td>1.15391</td>\n",
       "      <td>1.14223</td>\n",
       "      <td>1.15257</td>\n",
       "    </tr>\n",
       "    <tr>\n",
       "      <th>2020-07-21 21:00:00+00:00</th>\n",
       "      <td>129890</td>\n",
       "      <td>True</td>\n",
       "      <td>1.15257</td>\n",
       "      <td>1.16009</td>\n",
       "      <td>1.15059</td>\n",
       "      <td>1.15687</td>\n",
       "    </tr>\n",
       "    <tr>\n",
       "      <th>2020-07-22 21:00:00+00:00</th>\n",
       "      <td>115345</td>\n",
       "      <td>True</td>\n",
       "      <td>1.15634</td>\n",
       "      <td>1.16260</td>\n",
       "      <td>1.15397</td>\n",
       "      <td>1.15952</td>\n",
       "    </tr>\n",
       "    <tr>\n",
       "      <th>2020-07-23 21:00:00+00:00</th>\n",
       "      <td>115447</td>\n",
       "      <td>True</td>\n",
       "      <td>1.15920</td>\n",
       "      <td>1.16571</td>\n",
       "      <td>1.15806</td>\n",
       "      <td>1.16540</td>\n",
       "    </tr>\n",
       "    <tr>\n",
       "      <th>2020-07-26 21:00:00+00:00</th>\n",
       "      <td>123653</td>\n",
       "      <td>True</td>\n",
       "      <td>1.16420</td>\n",
       "      <td>1.17809</td>\n",
       "      <td>1.16387</td>\n",
       "      <td>1.17502</td>\n",
       "    </tr>\n",
       "    <tr>\n",
       "      <th>2020-07-27 21:00:00+00:00</th>\n",
       "      <td>126006</td>\n",
       "      <td>True</td>\n",
       "      <td>1.17502</td>\n",
       "      <td>1.17729</td>\n",
       "      <td>1.16980</td>\n",
       "      <td>1.17138</td>\n",
       "    </tr>\n",
       "    <tr>\n",
       "      <th>2020-07-28 21:00:00+00:00</th>\n",
       "      <td>121087</td>\n",
       "      <td>True</td>\n",
       "      <td>1.17145</td>\n",
       "      <td>1.18054</td>\n",
       "      <td>1.17114</td>\n",
       "      <td>1.17904</td>\n",
       "    </tr>\n",
       "    <tr>\n",
       "      <th>2020-07-29 21:00:00+00:00</th>\n",
       "      <td>128163</td>\n",
       "      <td>True</td>\n",
       "      <td>1.17904</td>\n",
       "      <td>1.18475</td>\n",
       "      <td>1.17304</td>\n",
       "      <td>1.18465</td>\n",
       "    </tr>\n",
       "    <tr>\n",
       "      <th>2020-07-30 21:00:00+00:00</th>\n",
       "      <td>154943</td>\n",
       "      <td>True</td>\n",
       "      <td>1.18465</td>\n",
       "      <td>1.19081</td>\n",
       "      <td>1.17602</td>\n",
       "      <td>1.17751</td>\n",
       "    </tr>\n",
       "  </tbody>\n",
       "</table>\n",
       "</div>"
      ],
      "text/plain": [
       "                           volume  complete        o        h        l  \\\n",
       "time                                                                     \n",
       "2020-06-30 21:00:00+00:00   90252      True  1.12293  1.12744  1.11837   \n",
       "2020-07-01 21:00:00+00:00   90789      True  1.12501  1.13020  1.12188   \n",
       "2020-07-02 21:00:00+00:00   59036      True  1.12384  1.12492  1.12186   \n",
       "2020-07-05 21:00:00+00:00   81756      True  1.12423  1.13449  1.12391   \n",
       "2020-07-06 21:00:00+00:00   92426      True  1.13070  1.13318  1.12581   \n",
       "2020-07-07 21:00:00+00:00   89549      True  1.12717  1.13505  1.12615   \n",
       "2020-07-08 21:00:00+00:00  104729      True  1.13287  1.13699  1.12774   \n",
       "2020-07-09 21:00:00+00:00   81510      True  1.12808  1.13242  1.12540   \n",
       "2020-07-12 21:00:00+00:00   86512      True  1.13042  1.13744  1.13002   \n",
       "2020-07-13 21:00:00+00:00  106478      True  1.13420  1.14081  1.13232   \n",
       "2020-07-14 21:00:00+00:00  100308      True  1.13979  1.14512  1.13901   \n",
       "2020-07-15 21:00:00+00:00  102144      True  1.14108  1.14411  1.13698   \n",
       "2020-07-16 21:00:00+00:00   73024      True  1.13827  1.14432  1.13737   \n",
       "2020-07-19 21:00:00+00:00  104209      True  1.14088  1.14672  1.14017   \n",
       "2020-07-20 21:00:00+00:00  111043      True  1.14461  1.15391  1.14223   \n",
       "2020-07-21 21:00:00+00:00  129890      True  1.15257  1.16009  1.15059   \n",
       "2020-07-22 21:00:00+00:00  115345      True  1.15634  1.16260  1.15397   \n",
       "2020-07-23 21:00:00+00:00  115447      True  1.15920  1.16571  1.15806   \n",
       "2020-07-26 21:00:00+00:00  123653      True  1.16420  1.17809  1.16387   \n",
       "2020-07-27 21:00:00+00:00  126006      True  1.17502  1.17729  1.16980   \n",
       "2020-07-28 21:00:00+00:00  121087      True  1.17145  1.18054  1.17114   \n",
       "2020-07-29 21:00:00+00:00  128163      True  1.17904  1.18475  1.17304   \n",
       "2020-07-30 21:00:00+00:00  154943      True  1.18465  1.19081  1.17602   \n",
       "\n",
       "                                 c  \n",
       "time                                \n",
       "2020-06-30 21:00:00+00:00  1.12501  \n",
       "2020-07-01 21:00:00+00:00  1.12384  \n",
       "2020-07-02 21:00:00+00:00  1.12429  \n",
       "2020-07-05 21:00:00+00:00  1.13076  \n",
       "2020-07-06 21:00:00+00:00  1.12726  \n",
       "2020-07-07 21:00:00+00:00  1.13287  \n",
       "2020-07-08 21:00:00+00:00  1.12837  \n",
       "2020-07-09 21:00:00+00:00  1.12977  \n",
       "2020-07-12 21:00:00+00:00  1.13420  \n",
       "2020-07-13 21:00:00+00:00  1.13985  \n",
       "2020-07-14 21:00:00+00:00  1.14108  \n",
       "2020-07-15 21:00:00+00:00  1.13827  \n",
       "2020-07-16 21:00:00+00:00  1.14252  \n",
       "2020-07-19 21:00:00+00:00  1.14461  \n",
       "2020-07-20 21:00:00+00:00  1.15257  \n",
       "2020-07-21 21:00:00+00:00  1.15687  \n",
       "2020-07-22 21:00:00+00:00  1.15952  \n",
       "2020-07-23 21:00:00+00:00  1.16540  \n",
       "2020-07-26 21:00:00+00:00  1.17502  \n",
       "2020-07-27 21:00:00+00:00  1.17138  \n",
       "2020-07-28 21:00:00+00:00  1.17904  \n",
       "2020-07-29 21:00:00+00:00  1.18465  \n",
       "2020-07-30 21:00:00+00:00  1.17751  "
      ]
     },
     "execution_count": 10,
     "metadata": {},
     "output_type": "execute_result"
    }
   ],
   "source": [
    "api.get_history(instrument = \"EUR_USD\", start = \"2020-07-01\", end = \"2020-07-31\",\n",
    "                granularity = \"D\", price = \"B\")"
   ]
  },
  {
   "cell_type": "code",
   "execution_count": null,
   "metadata": {},
   "outputs": [],
   "source": [
    "df = api.get_history(instrument = \"EUR_USD\", start = \"2020-07-01\", end = \"2020-07-31\",\n",
    "                granularity = \"D\", price = \"B\")"
   ]
  },
  {
   "cell_type": "code",
   "execution_count": null,
   "metadata": {},
   "outputs": [],
   "source": [
    "df.info()"
   ]
  },
  {
   "cell_type": "code",
   "execution_count": null,
   "metadata": {
    "scrolled": false
   },
   "outputs": [],
   "source": [
    "api.get_history(instrument = \"EUR_USD\", start = \"2020-07-01\", end = \"2020-07-01\",\n",
    "                granularity = \"D\", price = \"A\")"
   ]
  },
  {
   "cell_type": "code",
   "execution_count": null,
   "metadata": {},
   "outputs": [],
   "source": [
    "api.get_history(instrument = \"EUR_USD\", start = \"2020-07-01\", end = \"2020-07-01\",\n",
    "                granularity = \"D\", price = \"B\")"
   ]
  },
  {
   "cell_type": "markdown",
   "metadata": {},
   "source": [
    "## Getting Historical Data (Part 2)"
   ]
  },
  {
   "cell_type": "code",
   "execution_count": null,
   "metadata": {},
   "outputs": [],
   "source": [
    "api.get_history(\"EUR_USD\", \"2020-08-03\", \"2020-08-05\", \"H1\", \"A\")"
   ]
  },
  {
   "cell_type": "code",
   "execution_count": null,
   "metadata": {
    "scrolled": true
   },
   "outputs": [],
   "source": [
    "api.get_history(\"EUR_USD\", \"2020-08-03\", \"2020-08-05\", \"H12\", \"A\")"
   ]
  },
  {
   "cell_type": "code",
   "execution_count": null,
   "metadata": {
    "scrolled": false
   },
   "outputs": [],
   "source": [
    "api.get_history(\"EUR_USD\", \"2020-08-03\", \"2020-08-05\", \"M1\", \"A\")"
   ]
  },
  {
   "cell_type": "code",
   "execution_count": null,
   "metadata": {},
   "outputs": [],
   "source": [
    "api.get_history(\"EUR_USD\", \"2020-08-03\", \"2020-08-04\", \"S5\", \"A\")"
   ]
  },
  {
   "cell_type": "code",
   "execution_count": null,
   "metadata": {},
   "outputs": [],
   "source": [
    "api.get_instruments()"
   ]
  },
  {
   "cell_type": "code",
   "execution_count": null,
   "metadata": {},
   "outputs": [],
   "source": [
    "api.get_history(\"SPX500_USD\", \"2020-08-03\", \"2020-08-04\", \"H1\", \"A\")"
   ]
  },
  {
   "cell_type": "markdown",
   "metadata": {},
   "source": [
    "## Streaming high-frequency real-time Data"
   ]
  },
  {
   "cell_type": "code",
   "execution_count": 2,
   "metadata": {},
   "outputs": [],
   "source": [
    "import pandas as pd\n",
    "import tpqoa"
   ]
  },
  {
   "cell_type": "code",
   "execution_count": 5,
   "metadata": {},
   "outputs": [],
   "source": [
    "api = tpqoa.tpqoa(cfg_path)"
   ]
  },
  {
   "cell_type": "code",
   "execution_count": 11,
   "metadata": {
    "scrolled": true
   },
   "outputs": [
    {
     "name": "stdout",
     "output_type": "stream",
     "text": [
      "2023-07-14T18:28:50.153205407Z 1.12331 1.12347\n",
      "2023-07-14T18:28:55.407945865Z 1.12331 1.12347\n",
      "2023-07-14T18:28:56.459149974Z 1.12334 1.12348\n",
      "2023-07-14T18:28:58.732220878Z 1.12331 1.12347\n",
      "2023-07-14T18:28:59.067141889Z 1.12334 1.12348\n",
      "2023-07-14T18:29:01.160079623Z 1.12335 1.12349\n",
      "2023-07-14T18:29:01.261421170Z 1.12339 1.12354\n",
      "2023-07-14T18:29:02.340489135Z 1.12338 1.12354\n",
      "2023-07-14T18:29:02.844344305Z 1.12339 1.12353\n",
      "2023-07-14T18:29:03.021976409Z 1.12339 1.12354\n",
      "2023-07-14T18:29:03.383953251Z 1.12338 1.12354\n"
     ]
    }
   ],
   "source": [
    "ticks = None\n",
    "api.stop_stream = False\n",
    "\n",
    "try:\n",
    "    ticks = api.stream_data('EUR_USD')\n",
    "except KeyboardInterrupt:\n",
    "    api.stop_stream = True\n",
    "\n",
    "if ticks:\n",
    "    print(\"Ticks:\", len(ticks))"
   ]
  },
  {
   "cell_type": "code",
   "execution_count": 28,
   "metadata": {},
   "outputs": [],
   "source": [
    "api.stop_stream = False"
   ]
  },
  {
   "cell_type": "markdown",
   "metadata": {},
   "source": [
    "## Creating Orders and Executing Trades"
   ]
  },
  {
   "cell_type": "code",
   "execution_count": null,
   "metadata": {},
   "outputs": [],
   "source": [
    "import pandas as pd\n",
    "import tpqoa"
   ]
  },
  {
   "cell_type": "code",
   "execution_count": null,
   "metadata": {},
   "outputs": [],
   "source": [
    "api = tpqoa.tpqoa(\"oanda.cfg\")"
   ]
  },
  {
   "cell_type": "code",
   "execution_count": 13,
   "metadata": {},
   "outputs": [
    {
     "name": "stdout",
     "output_type": "stream",
     "text": [
      "\n",
      "\n",
      " {'id': '5', 'time': '2023-07-14T18:30:52.037185629Z', 'userID': 26333309, 'accountID': '101-001-26333309-001', 'batchID': '4', 'requestID': '25100085619536146', 'type': 'ORDER_FILL', 'orderID': '4', 'instrument': 'EUR_USD', 'units': '100000.0', 'gainQuoteHomeConversionFactor': '1.0', 'lossQuoteHomeConversionFactor': '1.0', 'price': 1.12359, 'fullVWAP': 1.12359, 'fullPrice': {'type': 'PRICE', 'bids': [{'price': 1.12345, 'liquidity': '10000000'}], 'asks': [{'price': 1.12359, 'liquidity': '10000000'}], 'closeoutBid': 1.12345, 'closeoutAsk': 1.12359}, 'reason': 'MARKET_ORDER', 'pl': '0.0', 'financing': '0.0', 'commission': '0.0', 'guaranteedExecutionFee': '0.0', 'accountBalance': '100000.0', 'tradeOpened': {'tradeID': '5', 'units': '100000.0', 'price': 1.12359, 'guaranteedExecutionFee': '0.0', 'halfSpreadCost': '7.0', 'initialMarginRequired': '2247.04'}, 'halfSpreadCost': '7.0'} \n",
      "\n"
     ]
    }
   ],
   "source": [
    "api.create_order(instrument = \"EUR_USD\", units = 100000, sl_distance= 0.1)"
   ]
  },
  {
   "cell_type": "code",
   "execution_count": null,
   "metadata": {},
   "outputs": [],
   "source": [
    "api.create_order(instrument = \"EUR_USD\", units = -100000, sl_distance= 0.1)"
   ]
  },
  {
   "cell_type": "code",
   "execution_count": null,
   "metadata": {
    "scrolled": true
   },
   "outputs": [],
   "source": [
    "api.get_account_summary()"
   ]
  },
  {
   "cell_type": "code",
   "execution_count": 20,
   "metadata": {},
   "outputs": [
    {
     "data": {
      "text/plain": [
       "[]"
      ]
     },
     "execution_count": 20,
     "metadata": {},
     "output_type": "execute_result"
    }
   ],
   "source": [
    "api.get_transactions(tid = 24)"
   ]
  },
  {
   "cell_type": "code",
   "execution_count": 21,
   "metadata": {},
   "outputs": [],
   "source": [
    "api.print_transactions(tid = 26-1)"
   ]
  },
  {
   "cell_type": "code",
   "execution_count": 39,
   "metadata": {},
   "outputs": [
    {
     "name": "stdout",
     "output_type": "stream",
     "text": [
      "2023-07-14T19:00:08.814290779Z 1.12331 1.12345\n",
      "2023-07-14T19:00:09.127248971Z 1.1233 1.12344\n",
      "2023-07-14T19:00:10.558193992Z 1.1233 1.12345\n",
      "2023-07-14T19:00:11.326066522Z 1.1233 1.12344\n",
      "2023-07-14T19:00:15.268307634Z 1.1233 1.12344\n",
      "Profit/Loss 2230.0\n",
      "2023-07-14T19:00:15.421447144Z 1.1233 1.12344\n",
      "Profit/Loss 2230.0\n"
     ]
    }
   ],
   "source": [
    "api.stop_stream = False\n",
    "stream = True\n",
    "\n",
    "ask_price = 1.10100\n",
    "units = 100000\n",
    "cost = units * ask_price\n",
    "ticks = []\n",
    "type = \"LONG\"\n",
    "\n",
    "while stream:\n",
    "    try:\n",
    "        ticks = api.stream_data('EUR_USD', stop=5, ret=True)\n",
    "    except KeyboardInterrupt:\n",
    "        api.stop_stream = True\n",
    "        stream = False\n",
    "\n",
    "    if ticks:\n",
    "        latest = ticks[-1]\n",
    "\n",
    "        if type == \"SHORT\":\n",
    "            ask = latest.asks[0].price\n",
    "            pl = cost - (ask * units)\n",
    "        else:\n",
    "            bid = latest.bids[0].price\n",
    "            pl = (bid * units) - cost\n",
    "\n",
    "        print(\"Profit/Loss\", pl)\n"
   ]
  },
  {
   "cell_type": "code",
   "execution_count": 36,
   "metadata": {},
   "outputs": [
    {
     "name": "stdout",
     "output_type": "stream",
     "text": [
      "\n",
      "\n",
      " {'id': '25', 'time': '2023-07-14T18:57:00.942701955Z', 'userID': 26333309, 'accountID': '101-001-26333309-001', 'batchID': '24', 'requestID': '61128889214111463', 'type': 'ORDER_FILL', 'orderID': '24', 'instrument': 'EUR_USD', 'units': '100000.0', 'gainQuoteHomeConversionFactor': '1.0', 'lossQuoteHomeConversionFactor': '1.0', 'price': 1.12336, 'fullVWAP': 1.12336, 'fullPrice': {'type': 'PRICE', 'bids': [{'price': 1.12322, 'liquidity': '10000000'}], 'asks': [{'price': 1.12336, 'liquidity': '10000000'}], 'closeoutBid': 1.12322, 'closeoutAsk': 1.12336}, 'reason': 'MARKET_ORDER', 'pl': '16.0', 'financing': '0.0', 'commission': '0.0', 'guaranteedExecutionFee': '0.0', 'accountBalance': '100008.0', 'tradesClosed': [{'tradeID': '11', 'units': '100000.0', 'price': 1.12336, 'realizedPL': '16.0', 'financing': '0.0', 'guaranteedExecutionFee': '0.0', 'halfSpreadCost': '7.0'}], 'halfSpreadCost': '7.0'} \n",
      "\n"
     ]
    }
   ],
   "source": [
    "api.create_order(instrument = \"EUR_USD\", units = 100000, sl_distance= 0.1)"
   ]
  },
  {
   "cell_type": "code",
   "execution_count": null,
   "metadata": {},
   "outputs": [],
   "source": []
  }
 ],
 "metadata": {
  "kernelspec": {
   "display_name": "Python 3 (ipykernel)",
   "language": "python",
   "name": "python3"
  },
  "language_info": {
   "codemirror_mode": {
    "name": "ipython",
    "version": 3
   },
   "file_extension": ".py",
   "mimetype": "text/x-python",
   "name": "python",
   "nbconvert_exporter": "python",
   "pygments_lexer": "ipython3",
   "version": "3.9.16"
  }
 },
 "nbformat": 4,
 "nbformat_minor": 2
}
